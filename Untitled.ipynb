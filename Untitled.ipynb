{
 "cells": [
  {
   "cell_type": "markdown",
   "id": "5afbf029-6561-4325-ac11-ad904cb3de60",
   "metadata": {},
   "source": [
    "# Heart Attack Analysis"
   ]
  },
  {
   "cell_type": "markdown",
   "id": "ab109183-ab1d-4b99-b308-e25fc4f49689",
   "metadata": {},
   "source": [
    "## Import necessary libraries"
   ]
  },
  {
   "cell_type": "code",
   "execution_count": 128,
   "id": "40c61817-95d6-4049-80a3-aad0c0cb1446",
   "metadata": {},
   "outputs": [],
   "source": [
    "import numpy as np\n",
    "import pandas as pd\n",
    "import matplotlib.pyplot as plt\n",
    "from sklearn.linear_model import LinearRegression\n",
    "from sklearn.model_selection import train_test_split\n",
    "from sklearn.metrics import mean_squared_error\n",
    "import joblib"
   ]
  },
  {
   "cell_type": "markdown",
   "id": "9ce5f60c-3379-4eae-9761-0a28139ec712",
   "metadata": {},
   "source": [
    "## Read the dataset from CSV file"
   ]
  },
  {
   "cell_type": "code",
   "execution_count": 151,
   "id": "0c885b01-d6c4-40f8-b472-3120054738aa",
   "metadata": {},
   "outputs": [
    {
     "data": {
      "text/html": [
       "<div>\n",
       "<style scoped>\n",
       "    .dataframe tbody tr th:only-of-type {\n",
       "        vertical-align: middle;\n",
       "    }\n",
       "\n",
       "    .dataframe tbody tr th {\n",
       "        vertical-align: top;\n",
       "    }\n",
       "\n",
       "    .dataframe thead th {\n",
       "        text-align: right;\n",
       "    }\n",
       "</style>\n",
       "<table border=\"1\" class=\"dataframe\">\n",
       "  <thead>\n",
       "    <tr style=\"text-align: right;\">\n",
       "      <th></th>\n",
       "      <th>age</th>\n",
       "      <th>sex</th>\n",
       "      <th>cp</th>\n",
       "      <th>trtbps</th>\n",
       "      <th>chol</th>\n",
       "      <th>fbs</th>\n",
       "      <th>restecg</th>\n",
       "      <th>thalachh</th>\n",
       "      <th>exng</th>\n",
       "      <th>oldpeak</th>\n",
       "      <th>slp</th>\n",
       "      <th>caa</th>\n",
       "      <th>thall</th>\n",
       "      <th>output</th>\n",
       "    </tr>\n",
       "  </thead>\n",
       "  <tbody>\n",
       "    <tr>\n",
       "      <th>0</th>\n",
       "      <td>63</td>\n",
       "      <td>1</td>\n",
       "      <td>3</td>\n",
       "      <td>145</td>\n",
       "      <td>233</td>\n",
       "      <td>1</td>\n",
       "      <td>0</td>\n",
       "      <td>150</td>\n",
       "      <td>0</td>\n",
       "      <td>2.3</td>\n",
       "      <td>0</td>\n",
       "      <td>0</td>\n",
       "      <td>1</td>\n",
       "      <td>1</td>\n",
       "    </tr>\n",
       "    <tr>\n",
       "      <th>1</th>\n",
       "      <td>37</td>\n",
       "      <td>1</td>\n",
       "      <td>2</td>\n",
       "      <td>130</td>\n",
       "      <td>250</td>\n",
       "      <td>0</td>\n",
       "      <td>1</td>\n",
       "      <td>187</td>\n",
       "      <td>0</td>\n",
       "      <td>3.5</td>\n",
       "      <td>0</td>\n",
       "      <td>0</td>\n",
       "      <td>2</td>\n",
       "      <td>1</td>\n",
       "    </tr>\n",
       "    <tr>\n",
       "      <th>2</th>\n",
       "      <td>41</td>\n",
       "      <td>0</td>\n",
       "      <td>1</td>\n",
       "      <td>130</td>\n",
       "      <td>204</td>\n",
       "      <td>0</td>\n",
       "      <td>0</td>\n",
       "      <td>172</td>\n",
       "      <td>0</td>\n",
       "      <td>1.4</td>\n",
       "      <td>2</td>\n",
       "      <td>0</td>\n",
       "      <td>2</td>\n",
       "      <td>1</td>\n",
       "    </tr>\n",
       "    <tr>\n",
       "      <th>3</th>\n",
       "      <td>56</td>\n",
       "      <td>1</td>\n",
       "      <td>1</td>\n",
       "      <td>120</td>\n",
       "      <td>236</td>\n",
       "      <td>0</td>\n",
       "      <td>1</td>\n",
       "      <td>178</td>\n",
       "      <td>0</td>\n",
       "      <td>0.8</td>\n",
       "      <td>2</td>\n",
       "      <td>0</td>\n",
       "      <td>2</td>\n",
       "      <td>1</td>\n",
       "    </tr>\n",
       "    <tr>\n",
       "      <th>4</th>\n",
       "      <td>57</td>\n",
       "      <td>0</td>\n",
       "      <td>0</td>\n",
       "      <td>120</td>\n",
       "      <td>354</td>\n",
       "      <td>0</td>\n",
       "      <td>1</td>\n",
       "      <td>163</td>\n",
       "      <td>1</td>\n",
       "      <td>0.6</td>\n",
       "      <td>2</td>\n",
       "      <td>0</td>\n",
       "      <td>2</td>\n",
       "      <td>1</td>\n",
       "    </tr>\n",
       "  </tbody>\n",
       "</table>\n",
       "</div>"
      ],
      "text/plain": [
       "   age  sex  cp  trtbps  chol  fbs  restecg  thalachh  exng  oldpeak  slp  \\\n",
       "0   63    1   3     145   233    1        0       150     0      2.3    0   \n",
       "1   37    1   2     130   250    0        1       187     0      3.5    0   \n",
       "2   41    0   1     130   204    0        0       172     0      1.4    2   \n",
       "3   56    1   1     120   236    0        1       178     0      0.8    2   \n",
       "4   57    0   0     120   354    0        1       163     1      0.6    2   \n",
       "\n",
       "   caa  thall  output  \n",
       "0    0      1       1  \n",
       "1    0      2       1  \n",
       "2    0      2       1  \n",
       "3    0      2       1  \n",
       "4    0      2       1  "
      ]
     },
     "execution_count": 151,
     "metadata": {},
     "output_type": "execute_result"
    }
   ],
   "source": [
    "dataset=pd.read_csv('heart.csv')\n",
    "dataset.head()"
   ]
  },
  {
   "cell_type": "markdown",
   "id": "d09c6687-4620-4e21-8890-960a8eabfc7b",
   "metadata": {},
   "source": [
    "## Create Correlation Matrix & check for correlation between \"output\" and other features"
   ]
  },
  {
   "cell_type": "code",
   "execution_count": 152,
   "id": "a7a84025-46ab-4f4e-a077-46d196133f48",
   "metadata": {},
   "outputs": [
    {
     "data": {
      "text/plain": [
       "age        -0.225439\n",
       "sex        -0.280937\n",
       "cp          0.433798\n",
       "trtbps     -0.144931\n",
       "chol       -0.085239\n",
       "fbs        -0.028046\n",
       "restecg     0.137230\n",
       "thalachh    0.421741\n",
       "exng       -0.436757\n",
       "oldpeak    -0.430696\n",
       "slp         0.345877\n",
       "caa        -0.391724\n",
       "thall      -0.344029\n",
       "output      1.000000\n",
       "Name: output, dtype: float64"
      ]
     },
     "execution_count": 152,
     "metadata": {},
     "output_type": "execute_result"
    }
   ],
   "source": [
    "correlation=dataset.corr()\n",
    "correlation['output']"
   ]
  },
  {
   "cell_type": "markdown",
   "id": "eb71db04-5ae9-430b-9573-9de84f137a9f",
   "metadata": {},
   "source": [
    "## Check which features have strong correlation with output"
   ]
  },
  {
   "cell_type": "code",
   "execution_count": 153,
   "id": "f3c0cffe-fe57-4edd-b891-f175eb75e641",
   "metadata": {},
   "outputs": [
    {
     "name": "stdout",
     "output_type": "stream",
     "text": [
      "cp          0.433798\n",
      "thalachh    0.421741\n",
      "output      1.000000\n",
      "Name: output, dtype: float64\n",
      "exng      -0.436757\n",
      "oldpeak   -0.430696\n",
      "Name: output, dtype: float64\n"
     ]
    }
   ],
   "source": [
    "print(correlation['output'][correlation['output']>0.4])\n",
    "print(correlation['output'][correlation['output']<-0.4])"
   ]
  },
  {
   "cell_type": "markdown",
   "id": "a0aa372b-c46e-4ba8-bf94-8d1c2de502cc",
   "metadata": {},
   "source": [
    "## Take features & target"
   ]
  },
  {
   "cell_type": "code",
   "execution_count": 154,
   "id": "de07ff69-d0b7-401e-8b8f-2fa7e72ed259",
   "metadata": {},
   "outputs": [],
   "source": [
    "features=['cp','thalachh','exng','oldpeak']\n",
    "target='output'"
   ]
  },
  {
   "cell_type": "markdown",
   "id": "f89e9302-7585-4eb2-a560-b43f6a39286f",
   "metadata": {},
   "source": [
    "## Split the data into training & testing set"
   ]
  },
  {
   "cell_type": "code",
   "execution_count": 155,
   "id": "58f8c49f-6523-4d2f-adc1-43c2be191de0",
   "metadata": {},
   "outputs": [],
   "source": [
    "train_set,test_set=train_test_split(dataset,test_size=0.2,random_state=42)"
   ]
  },
  {
   "cell_type": "markdown",
   "id": "0cb9bead-1653-4bf2-87ef-5d2e687720aa",
   "metadata": {},
   "source": [
    "## Create LinearRegression model & fit training set into it"
   ]
  },
  {
   "cell_type": "code",
   "execution_count": 156,
   "id": "32a81622-b2c9-43f7-85ab-795832b47784",
   "metadata": {},
   "outputs": [],
   "source": [
    "linear_model=LinearRegression().fit(train_set[features],train_set[target])"
   ]
  },
  {
   "cell_type": "markdown",
   "id": "7bb4b367-5278-455f-bfc6-324d442720f0",
   "metadata": {},
   "source": [
    "## Predict the result for test set"
   ]
  },
  {
   "cell_type": "code",
   "execution_count": 157,
   "id": "cf83df4c-c2d0-4ea0-ad6b-7e6ea1d2adb1",
   "metadata": {},
   "outputs": [],
   "source": [
    "predicted_outputs=linear_model.predict(test_set[features])"
   ]
  },
  {
   "cell_type": "markdown",
   "id": "a93eca1f-0527-441e-9911-c4ae8280e609",
   "metadata": {},
   "source": [
    "## Here, the output is either 1 or 0 so the required task is Classification\n",
    "## However, Linear Regression can be used here by assuming the output is 1 if the predicted output>0.5 and vice versa"
   ]
  },
  {
   "cell_type": "code",
   "execution_count": 158,
   "id": "6562abe1-b597-499e-9d6e-abb1a8514bff",
   "metadata": {},
   "outputs": [],
   "source": [
    "answer=[1 if i>0.5 else 0 for i in predicted_outputs]"
   ]
  },
  {
   "cell_type": "markdown",
   "id": "6b487369-1629-4de6-a6a3-18e7a1c43edd",
   "metadata": {},
   "source": [
    "## Mean Square Error"
   ]
  },
  {
   "cell_type": "code",
   "execution_count": 159,
   "id": "ccf526c4-8d8c-4076-99e2-70975c20c5bb",
   "metadata": {},
   "outputs": [
    {
     "data": {
      "text/plain": [
       "0.14754098360655737"
      ]
     },
     "execution_count": 159,
     "metadata": {},
     "output_type": "execute_result"
    }
   ],
   "source": [
    "mean_squared_error(test_set[target],answer)"
   ]
  },
  {
   "cell_type": "markdown",
   "id": "580c3ac2-9e5a-4141-8007-63741d559a3b",
   "metadata": {},
   "source": [
    "## Check how many False Positives & False Negatives were found"
   ]
  },
  {
   "cell_type": "code",
   "execution_count": 160,
   "id": "631bcbd2-9010-4e15-b3fb-a7d55b8bb01d",
   "metadata": {},
   "outputs": [
    {
     "name": "stdout",
     "output_type": "stream",
     "text": [
      "9/61 cases were predicted wrongly\n",
      "Model Accuracy on Test Set is 85.25\n"
     ]
    }
   ],
   "source": [
    "q=0\n",
    "for i,j in zip(answer,test_set[target]):q+=+i!=j\n",
    "print(f\"{q}/{len(answer)} cases were predicted wrongly\")\n",
    "print(f\"Model Accuracy on Test Set is {round((len(answer)-q)*100/len(answer),2)}\")"
   ]
  },
  {
   "cell_type": "markdown",
   "id": "909c8aa4-23f0-4f40-9597-b2c8e56062bb",
   "metadata": {},
   "source": [
    "## Dump the model"
   ]
  },
  {
   "cell_type": "code",
   "execution_count": 161,
   "id": "e52729e4-a50b-43d3-a668-5d9bd5333303",
   "metadata": {},
   "outputs": [
    {
     "data": {
      "text/plain": [
       "['finalized_model.sav']"
      ]
     },
     "execution_count": 161,
     "metadata": {},
     "output_type": "execute_result"
    }
   ],
   "source": [
    "joblib.dump(linear_model, \"finalized_model.sav\")"
   ]
  },
  {
   "cell_type": "markdown",
   "id": "8b84573b-5bd0-4774-bb67-ffd25ce0f7e2",
   "metadata": {},
   "source": [
    "# Hurray !!!"
   ]
  }
 ],
 "metadata": {
  "kernelspec": {
   "display_name": "Python 3 (ipykernel)",
   "language": "python",
   "name": "python3"
  },
  "language_info": {
   "codemirror_mode": {
    "name": "ipython",
    "version": 3
   },
   "file_extension": ".py",
   "mimetype": "text/x-python",
   "name": "python",
   "nbconvert_exporter": "python",
   "pygments_lexer": "ipython3",
   "version": "3.8.10"
  }
 },
 "nbformat": 4,
 "nbformat_minor": 5
}
